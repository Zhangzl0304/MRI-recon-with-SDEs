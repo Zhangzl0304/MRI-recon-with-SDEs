{
 "cells": [
  {
   "cell_type": "code",
   "execution_count": 1,
   "metadata": {},
   "outputs": [
    {
     "name": "stdout",
     "output_type": "stream",
     "text": [
      "anaconda3\t\t\tjava_error_in_pycharm_.hprof  score_sde_pytorch\n",
      "CMRxRecon2023\t\t\tLAL\t\t\t      SDEs\n",
      "crnn_mri_brcnn10_epoch_150.npz\tlatent-diffusion\t      SSDiffRecon\n",
      "Desktop\t\t\t\tLDM\n",
      "dotfiles\t\t\tNTUSER.DAT\n"
     ]
    }
   ],
   "source": [
    "!ls"
   ]
  }
 ],
 "metadata": {
  "kernelspec": {
   "display_name": "ldm",
   "language": "python",
   "name": "python3"
  },
  "language_info": {
   "codemirror_mode": {
    "name": "ipython",
    "version": 3
   },
   "file_extension": ".py",
   "mimetype": "text/x-python",
   "name": "python",
   "nbconvert_exporter": "python",
   "pygments_lexer": "ipython3",
   "version": "3.8.5"
  }
 },
 "nbformat": 4,
 "nbformat_minor": 2
}
